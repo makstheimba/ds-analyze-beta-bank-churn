{
 "cells": [
  {
   "attachments": {},
   "cell_type": "markdown",
   "metadata": {},
   "source": [
    "Beta Bank customers are leaving: little by little, chipping away every month. The bankers figured out it’s cheaper to save the existing customers than to attract new ones.\n",
    "\n",
    "We need to predict whether the customer will leave the bank soon. You have the data on clients’ past behavior and termination of contracts with the bank. \n",
    "\n",
    "Build a model with the maximum possible *F1* score. To pass the project, you need an *F1* score of at least 0.59. Check the *F1* for the test set.\n",
    "\n",
    "Additionally, measure the *AUC-ROC* metric and compare it with the *F1*.\n",
    "\n",
    "Data source: [https://www.kaggle.com/barelydedicated/bank-customer-churn-modeling](https://www.kaggle.com/barelydedicated/bank-customer-churn-modeling)"
   ]
  },
  {
   "attachments": {},
   "cell_type": "markdown",
   "metadata": {},
   "source": [
    "# 1. Data preparation"
   ]
  },
  {
   "cell_type": "code",
   "execution_count": 46,
   "metadata": {},
   "outputs": [
    {
     "name": "stdout",
     "output_type": "stream",
     "text": [
      "<class 'pandas.core.frame.DataFrame'>\n",
      "RangeIndex: 10000 entries, 0 to 9999\n",
      "Data columns (total 14 columns):\n",
      " #   Column           Non-Null Count  Dtype  \n",
      "---  ------           --------------  -----  \n",
      " 0   RowNumber        10000 non-null  int64  \n",
      " 1   CustomerId       10000 non-null  int64  \n",
      " 2   Surname          10000 non-null  object \n",
      " 3   CreditScore      10000 non-null  int64  \n",
      " 4   Geography        10000 non-null  object \n",
      " 5   Gender           10000 non-null  object \n",
      " 6   Age              10000 non-null  int64  \n",
      " 7   Tenure           9091 non-null   float64\n",
      " 8   Balance          10000 non-null  float64\n",
      " 9   NumOfProducts    10000 non-null  int64  \n",
      " 10  HasCrCard        10000 non-null  int64  \n",
      " 11  IsActiveMember   10000 non-null  int64  \n",
      " 12  EstimatedSalary  10000 non-null  float64\n",
      " 13  Exited           10000 non-null  int64  \n",
      "dtypes: float64(3), int64(8), object(3)\n",
      "memory usage: 1.1+ MB\n"
     ]
    },
    {
     "data": {
      "text/html": [
       "<div>\n",
       "<style scoped>\n",
       "    .dataframe tbody tr th:only-of-type {\n",
       "        vertical-align: middle;\n",
       "    }\n",
       "\n",
       "    .dataframe tbody tr th {\n",
       "        vertical-align: top;\n",
       "    }\n",
       "\n",
       "    .dataframe thead th {\n",
       "        text-align: right;\n",
       "    }\n",
       "</style>\n",
       "<table border=\"1\" class=\"dataframe\">\n",
       "  <thead>\n",
       "    <tr style=\"text-align: right;\">\n",
       "      <th></th>\n",
       "      <th>RowNumber</th>\n",
       "      <th>CustomerId</th>\n",
       "      <th>Surname</th>\n",
       "      <th>CreditScore</th>\n",
       "      <th>Geography</th>\n",
       "      <th>Gender</th>\n",
       "      <th>Age</th>\n",
       "      <th>Tenure</th>\n",
       "      <th>Balance</th>\n",
       "      <th>NumOfProducts</th>\n",
       "      <th>HasCrCard</th>\n",
       "      <th>IsActiveMember</th>\n",
       "      <th>EstimatedSalary</th>\n",
       "      <th>Exited</th>\n",
       "    </tr>\n",
       "  </thead>\n",
       "  <tbody>\n",
       "    <tr>\n",
       "      <th>0</th>\n",
       "      <td>1</td>\n",
       "      <td>15634602</td>\n",
       "      <td>Hargrave</td>\n",
       "      <td>619</td>\n",
       "      <td>France</td>\n",
       "      <td>Female</td>\n",
       "      <td>42</td>\n",
       "      <td>2.0</td>\n",
       "      <td>0.00</td>\n",
       "      <td>1</td>\n",
       "      <td>1</td>\n",
       "      <td>1</td>\n",
       "      <td>101348.88</td>\n",
       "      <td>1</td>\n",
       "    </tr>\n",
       "    <tr>\n",
       "      <th>1</th>\n",
       "      <td>2</td>\n",
       "      <td>15647311</td>\n",
       "      <td>Hill</td>\n",
       "      <td>608</td>\n",
       "      <td>Spain</td>\n",
       "      <td>Female</td>\n",
       "      <td>41</td>\n",
       "      <td>1.0</td>\n",
       "      <td>83807.86</td>\n",
       "      <td>1</td>\n",
       "      <td>0</td>\n",
       "      <td>1</td>\n",
       "      <td>112542.58</td>\n",
       "      <td>0</td>\n",
       "    </tr>\n",
       "    <tr>\n",
       "      <th>2</th>\n",
       "      <td>3</td>\n",
       "      <td>15619304</td>\n",
       "      <td>Onio</td>\n",
       "      <td>502</td>\n",
       "      <td>France</td>\n",
       "      <td>Female</td>\n",
       "      <td>42</td>\n",
       "      <td>8.0</td>\n",
       "      <td>159660.80</td>\n",
       "      <td>3</td>\n",
       "      <td>1</td>\n",
       "      <td>0</td>\n",
       "      <td>113931.57</td>\n",
       "      <td>1</td>\n",
       "    </tr>\n",
       "    <tr>\n",
       "      <th>3</th>\n",
       "      <td>4</td>\n",
       "      <td>15701354</td>\n",
       "      <td>Boni</td>\n",
       "      <td>699</td>\n",
       "      <td>France</td>\n",
       "      <td>Female</td>\n",
       "      <td>39</td>\n",
       "      <td>1.0</td>\n",
       "      <td>0.00</td>\n",
       "      <td>2</td>\n",
       "      <td>0</td>\n",
       "      <td>0</td>\n",
       "      <td>93826.63</td>\n",
       "      <td>0</td>\n",
       "    </tr>\n",
       "    <tr>\n",
       "      <th>4</th>\n",
       "      <td>5</td>\n",
       "      <td>15737888</td>\n",
       "      <td>Mitchell</td>\n",
       "      <td>850</td>\n",
       "      <td>Spain</td>\n",
       "      <td>Female</td>\n",
       "      <td>43</td>\n",
       "      <td>2.0</td>\n",
       "      <td>125510.82</td>\n",
       "      <td>1</td>\n",
       "      <td>1</td>\n",
       "      <td>1</td>\n",
       "      <td>79084.10</td>\n",
       "      <td>0</td>\n",
       "    </tr>\n",
       "  </tbody>\n",
       "</table>\n",
       "</div>"
      ],
      "text/plain": [
       "   RowNumber  CustomerId   Surname  CreditScore Geography  Gender  Age  \\\n",
       "0          1    15634602  Hargrave          619    France  Female   42   \n",
       "1          2    15647311      Hill          608     Spain  Female   41   \n",
       "2          3    15619304      Onio          502    France  Female   42   \n",
       "3          4    15701354      Boni          699    France  Female   39   \n",
       "4          5    15737888  Mitchell          850     Spain  Female   43   \n",
       "\n",
       "   Tenure    Balance  NumOfProducts  HasCrCard  IsActiveMember  \\\n",
       "0     2.0       0.00              1          1               1   \n",
       "1     1.0   83807.86              1          0               1   \n",
       "2     8.0  159660.80              3          1               0   \n",
       "3     1.0       0.00              2          0               0   \n",
       "4     2.0  125510.82              1          1               1   \n",
       "\n",
       "   EstimatedSalary  Exited  \n",
       "0        101348.88       1  \n",
       "1        112542.58       0  \n",
       "2        113931.57       1  \n",
       "3         93826.63       0  \n",
       "4         79084.10       0  "
      ]
     },
     "execution_count": 46,
     "metadata": {},
     "output_type": "execute_result"
    }
   ],
   "source": [
    "import pandas as pd\n",
    "import numpy as np\n",
    "import matplotlib.pyplot as plt\n",
    "from sklearn.model_selection import train_test_split\n",
    "from sklearn.utils import shuffle\n",
    "from sklearn.ensemble import RandomForestClassifier\n",
    "from sklearn.metrics import accuracy_score, f1_score, confusion_matrix, roc_auc_score, roc_curve\n",
    "\n",
    "df = pd.read_csv('./datasets/Churn.csv')\n",
    "\n",
    "df.info()\n",
    "df.head()"
   ]
  },
  {
   "cell_type": "code",
   "execution_count": 47,
   "metadata": {},
   "outputs": [],
   "source": [
    "# convert some columns to bool types\n",
    "df['Exited'] = df['Exited'].astype('bool')\n",
    "df['HasCrCard'] = df['HasCrCard'].astype('bool')\n",
    "df['IsActiveMember'] = df['IsActiveMember'].astype('bool')\n",
    "\n",
    "# set index to CustomerId\n",
    "df.set_index('CustomerId', inplace=True)\n",
    "\n",
    "# convert Gender column to isMale column with bool type\n",
    "df['isMale'] = df['Gender'] == 'Male'\n",
    "\n",
    "# remove RowNumber and Surname as these are not relevant for model training\n",
    "df.drop(['RowNumber', 'Surname', 'Gender'], axis=1, inplace=True)\n",
    "\n",
    "# -1 Tenure will indicate the abscence of fixed deposit\n",
    "df['Tenure'].fillna(-1, inplace=True)\n",
    "\n",
    "df = pd.get_dummies(df, columns=['Geography'], drop_first=True)"
   ]
  },
  {
   "cell_type": "code",
   "execution_count": 48,
   "metadata": {},
   "outputs": [
    {
     "name": "stdout",
     "output_type": "stream",
     "text": [
      "<class 'pandas.core.frame.DataFrame'>\n",
      "Int64Index: 10000 entries, 15634602 to 15628319\n",
      "Data columns (total 12 columns):\n",
      " #   Column             Non-Null Count  Dtype  \n",
      "---  ------             --------------  -----  \n",
      " 0   CreditScore        10000 non-null  int64  \n",
      " 1   Age                10000 non-null  int64  \n",
      " 2   Tenure             10000 non-null  float64\n",
      " 3   Balance            10000 non-null  float64\n",
      " 4   NumOfProducts      10000 non-null  int64  \n",
      " 5   HasCrCard          10000 non-null  bool   \n",
      " 6   IsActiveMember     10000 non-null  bool   \n",
      " 7   EstimatedSalary    10000 non-null  float64\n",
      " 8   Exited             10000 non-null  bool   \n",
      " 9   isMale             10000 non-null  bool   \n",
      " 10  Geography_Germany  10000 non-null  uint8  \n",
      " 11  Geography_Spain    10000 non-null  uint8  \n",
      "dtypes: bool(4), float64(3), int64(3), uint8(2)\n",
      "memory usage: 605.5 KB\n"
     ]
    },
    {
     "data": {
      "text/html": [
       "<div>\n",
       "<style scoped>\n",
       "    .dataframe tbody tr th:only-of-type {\n",
       "        vertical-align: middle;\n",
       "    }\n",
       "\n",
       "    .dataframe tbody tr th {\n",
       "        vertical-align: top;\n",
       "    }\n",
       "\n",
       "    .dataframe thead th {\n",
       "        text-align: right;\n",
       "    }\n",
       "</style>\n",
       "<table border=\"1\" class=\"dataframe\">\n",
       "  <thead>\n",
       "    <tr style=\"text-align: right;\">\n",
       "      <th></th>\n",
       "      <th>CreditScore</th>\n",
       "      <th>Age</th>\n",
       "      <th>Tenure</th>\n",
       "      <th>Balance</th>\n",
       "      <th>NumOfProducts</th>\n",
       "      <th>HasCrCard</th>\n",
       "      <th>IsActiveMember</th>\n",
       "      <th>EstimatedSalary</th>\n",
       "      <th>Exited</th>\n",
       "      <th>isMale</th>\n",
       "      <th>Geography_Germany</th>\n",
       "      <th>Geography_Spain</th>\n",
       "    </tr>\n",
       "    <tr>\n",
       "      <th>CustomerId</th>\n",
       "      <th></th>\n",
       "      <th></th>\n",
       "      <th></th>\n",
       "      <th></th>\n",
       "      <th></th>\n",
       "      <th></th>\n",
       "      <th></th>\n",
       "      <th></th>\n",
       "      <th></th>\n",
       "      <th></th>\n",
       "      <th></th>\n",
       "      <th></th>\n",
       "    </tr>\n",
       "  </thead>\n",
       "  <tbody>\n",
       "    <tr>\n",
       "      <th>15687492</th>\n",
       "      <td>596</td>\n",
       "      <td>32</td>\n",
       "      <td>3.0</td>\n",
       "      <td>96709.07</td>\n",
       "      <td>2</td>\n",
       "      <td>False</td>\n",
       "      <td>False</td>\n",
       "      <td>41788.37</td>\n",
       "      <td>False</td>\n",
       "      <td>True</td>\n",
       "      <td>1</td>\n",
       "      <td>0</td>\n",
       "    </tr>\n",
       "    <tr>\n",
       "      <th>15736963</th>\n",
       "      <td>623</td>\n",
       "      <td>43</td>\n",
       "      <td>1.0</td>\n",
       "      <td>0.00</td>\n",
       "      <td>2</td>\n",
       "      <td>True</td>\n",
       "      <td>True</td>\n",
       "      <td>146379.30</td>\n",
       "      <td>False</td>\n",
       "      <td>True</td>\n",
       "      <td>0</td>\n",
       "      <td>0</td>\n",
       "    </tr>\n",
       "    <tr>\n",
       "      <th>15721730</th>\n",
       "      <td>601</td>\n",
       "      <td>44</td>\n",
       "      <td>4.0</td>\n",
       "      <td>0.00</td>\n",
       "      <td>2</td>\n",
       "      <td>True</td>\n",
       "      <td>False</td>\n",
       "      <td>58561.31</td>\n",
       "      <td>False</td>\n",
       "      <td>False</td>\n",
       "      <td>0</td>\n",
       "      <td>1</td>\n",
       "    </tr>\n",
       "    <tr>\n",
       "      <th>15762134</th>\n",
       "      <td>506</td>\n",
       "      <td>59</td>\n",
       "      <td>8.0</td>\n",
       "      <td>119152.10</td>\n",
       "      <td>2</td>\n",
       "      <td>True</td>\n",
       "      <td>True</td>\n",
       "      <td>170679.74</td>\n",
       "      <td>False</td>\n",
       "      <td>True</td>\n",
       "      <td>1</td>\n",
       "      <td>0</td>\n",
       "    </tr>\n",
       "    <tr>\n",
       "      <th>15648898</th>\n",
       "      <td>560</td>\n",
       "      <td>27</td>\n",
       "      <td>7.0</td>\n",
       "      <td>124995.98</td>\n",
       "      <td>1</td>\n",
       "      <td>True</td>\n",
       "      <td>True</td>\n",
       "      <td>114669.79</td>\n",
       "      <td>False</td>\n",
       "      <td>False</td>\n",
       "      <td>0</td>\n",
       "      <td>1</td>\n",
       "    </tr>\n",
       "  </tbody>\n",
       "</table>\n",
       "</div>"
      ],
      "text/plain": [
       "            CreditScore  Age  Tenure    Balance  NumOfProducts  HasCrCard  \\\n",
       "CustomerId                                                                  \n",
       "15687492            596   32     3.0   96709.07              2      False   \n",
       "15736963            623   43     1.0       0.00              2       True   \n",
       "15721730            601   44     4.0       0.00              2       True   \n",
       "15762134            506   59     8.0  119152.10              2       True   \n",
       "15648898            560   27     7.0  124995.98              1       True   \n",
       "\n",
       "            IsActiveMember  EstimatedSalary  Exited  isMale  \\\n",
       "CustomerId                                                    \n",
       "15687492             False         41788.37   False    True   \n",
       "15736963              True        146379.30   False    True   \n",
       "15721730             False         58561.31   False   False   \n",
       "15762134              True        170679.74   False    True   \n",
       "15648898              True        114669.79   False   False   \n",
       "\n",
       "            Geography_Germany  Geography_Spain  \n",
       "CustomerId                                      \n",
       "15687492                    1                0  \n",
       "15736963                    0                0  \n",
       "15721730                    0                1  \n",
       "15762134                    1                0  \n",
       "15648898                    0                1  "
      ]
     },
     "execution_count": 48,
     "metadata": {},
     "output_type": "execute_result"
    }
   ],
   "source": [
    "df.info()\n",
    "df.sample(5, random_state=42)"
   ]
  },
  {
   "attachments": {},
   "cell_type": "markdown",
   "metadata": {},
   "source": [
    "## We've successfully prepared the data.\n",
    "\n",
    "We've converted all the columns that could be converted to a bool type (Exited, HasCrCard, IsActiveMember, Gender). \n",
    "\n",
    "We've used OHE for Geography column so we can train a better a model with this categorical variable\n",
    "\n",
    "We've removed columns which should not affect resulting model at all and might actually prevent us from training a good model.\n",
    "\n",
    "We've left CredistScore, Age, Tenure, Balance, NumOfProducts and EstimatedSalary unchanged.\n",
    "\n",
    "We have data for all of the rows. The only Null values we have a for Tenure column. But it is right - Null Tenure means that customer doesn't have a fixed deposit for maturation. However NaN values might get in a way when we train our model. So we've replaced them with -1"
   ]
  },
  {
   "attachments": {},
   "cell_type": "markdown",
   "metadata": {},
   "source": [
    "# 2. Task research"
   ]
  },
  {
   "cell_type": "code",
   "execution_count": 67,
   "metadata": {},
   "outputs": [
    {
     "name": "stdout",
     "output_type": "stream",
     "text": [
      "Accuracy for a pilot model 0.842\n",
      "f1_score 0.5212121212121211\n",
      "ROC AUC score = 0.8493\n",
      "confusion matrix\n",
      "[[1512   65]\n",
      " [ 251  172]]\n"
     ]
    }
   ],
   "source": [
    "target = df['Exited']\n",
    "features = df.drop('Exited', axis=1)\n",
    "\n",
    "features_train, features_other, target_train, target_other = train_test_split(\n",
    "    features, target, test_size=0.4, random_state=12345\n",
    ")\n",
    "\n",
    "features_test, features_valid, target_test, target_valid = train_test_split(\n",
    "    features_other, target_other, test_size=0.5, random_state=12345\n",
    ")\n",
    "\n",
    "model = RandomForestClassifier(random_state=12345)\n",
    "model.fit(features_train, target_train)\n",
    "\n",
    "predictions_valid = model.predict(features_valid)\n",
    "probs = model.predict_proba(features_valid)\n",
    "print('Accuracy for a pilot model', accuracy_score(target_valid, predictions_valid))\n",
    "print('f1_score', f1_score(target_valid, predictions_valid))\n",
    "print('ROC AUC score = {:.4f}'.format(roc_auc_score(target_valid, probs[:, 1])))\n",
    "print('confusion matrix\\n', confusion_matrix(target_valid, predictions_valid), sep='')"
   ]
  },
  {
   "cell_type": "code",
   "execution_count": null,
   "metadata": {},
   "outputs": [],
   "source": [
    "tpr, fpr, threshold = roc_curve(target_valid, probs[:, 1])\n",
    "\n",
    "plt.figure(figsize=(8, 8))\n",
    "plt.plot(tpr, fpr)\n",
    "plt.plot([0, 1], [0, 1], linestyle='--')\n",
    "plt.title('ROC curve')\n",
    "plt.xlabel('False Positive Rate')\n",
    "plt.ylabel('True Positive Rate')\n",
    "plt.show()"
   ]
  },
  {
   "attachments": {},
   "cell_type": "markdown",
   "metadata": {},
   "source": [
    "Let's do a sanity check for our base model"
   ]
  },
  {
   "cell_type": "code",
   "execution_count": 70,
   "metadata": {},
   "outputs": [
    {
     "name": "stdout",
     "output_type": "stream",
     "text": [
      "Accuracy for a constant model 0.7885\n",
      "f1_score 0.0\n",
      "ROC AUC score = 0.5000\n",
      "confusion matrix\n",
      "[[1577    0]\n",
      " [ 423    0]]\n"
     ]
    },
    {
     "data": {
      "image/png": "[encoded data removed]",
      "text/plain": [
       "<Figure size 800x800 with 1 Axes>"
      ]
     },
     "metadata": {},
     "output_type": "display_data"
    }
   ],
   "source": [
    "target_pred_constant = pd.Series(False, index=target_valid.index)\n",
    "print('Accuracy for a constant model', accuracy_score(target_valid, target_pred_constant))\n",
    "print('f1_score', f1_score(target_valid, target_pred_constant))\n",
    "print('ROC AUC score = {:.4f}'.format(roc_auc_score(target_valid, target_pred_constant)))\n",
    "print('confusion matrix\\n', confusion_matrix(target_valid, target_pred_constant), sep='')\n",
    "\n",
    "tpr, fpr, threshold = roc_curve(target_valid, target_pred_constant)\n",
    "\n",
    "plt.figure(figsize=(8, 8))\n",
    "plt.plot(tpr, fpr)\n",
    "plt.plot([0, 1], [0, 1], linestyle='--')\n",
    "plt.title('ROC curve')\n",
    "plt.xlabel('False Positive Rate')\n",
    "plt.ylabel('True Positive Rate')\n",
    "plt.show()\n"
   ]
  },
  {
   "attachments": {},
   "cell_type": "markdown",
   "metadata": {},
   "source": [
    "Our base model has a pretty good accuracy and even passes a sanity check. However it's F1 score is lower than our target"
   ]
  },
  {
   "attachments": {},
   "cell_type": "markdown",
   "metadata": {},
   "source": [
    "# 3. Fixing class imbalance"
   ]
  },
  {
   "cell_type": "code",
   "execution_count": 52,
   "metadata": {},
   "outputs": [
    {
     "data": {
      "text/plain": [
       "False    4804\n",
       "True     1196\n",
       "Name: Exited, dtype: int64"
      ]
     },
     "execution_count": 52,
     "metadata": {},
     "output_type": "execute_result"
    }
   ],
   "source": [
    "target_train.value_counts()"
   ]
  },
  {
   "attachments": {},
   "cell_type": "markdown",
   "metadata": {},
   "source": [
    "There is a slight class imbalance in our dataset. We can use upsampling to make it more balanced"
   ]
  },
  {
   "cell_type": "code",
   "execution_count": 53,
   "metadata": {},
   "outputs": [
    {
     "data": {
      "text/plain": [
       "False    4804\n",
       "True     3588\n",
       "Name: Exited, dtype: int64"
      ]
     },
     "execution_count": 53,
     "metadata": {},
     "output_type": "execute_result"
    }
   ],
   "source": [
    "features_train_true = features_train[target_train == True]\n",
    "features_train_false = features_train[target_train == False]\n",
    "target_train_true = target_train[target_train == True]\n",
    "target_train_false = target_train[target_train == False]\n",
    "\n",
    "features_upsampled = pd.concat([features_train_false] + [features_train_true] * 3)\n",
    "target_upsampled = pd.concat([target_train_false] + [target_train_true] * 3)\n",
    "\n",
    "features_upsampled, target_upsampled = shuffle(features_upsampled, target_upsampled, random_state=12345)\n",
    "\n",
    "target_upsampled.value_counts()"
   ]
  },
  {
   "cell_type": "code",
   "execution_count": 61,
   "metadata": {},
   "outputs": [
    {
     "name": "stdout",
     "output_type": "stream",
     "text": [
      "Threshold = 0.39 | F1_score = 0.594, Accuracy = 0.7770, Estimators = 10, Depth = 6, Class_Weight = None\n",
      "Threshold = 0.41 | F1_score = 0.600, Accuracy = 0.7870, Estimators = 10, Depth = 6, Class_Weight = None\n",
      "Threshold = 0.43 | F1_score = 0.602, Accuracy = 0.8000, Estimators = 10, Depth = 6, Class_Weight = None\n",
      "Threshold = 0.45 | F1_score = 0.603, Accuracy = 0.8115, Estimators = 10, Depth = 6, Class_Weight = None\n",
      "Threshold = 0.47 | F1_score = 0.604, Accuracy = 0.8220, Estimators = 10, Depth = 6, Class_Weight = None\n",
      "Threshold = 0.45 | F1_score = 0.617, Accuracy = 0.8170, Estimators = 10, Depth = 8, Class_Weight = None\n",
      "Threshold = 0.47 | F1_score = 0.623, Accuracy = 0.8275, Estimators = 10, Depth = 8, Class_Weight = None\n",
      "Threshold = 0.43 | F1_score = 0.624, Accuracy = 0.8090, Estimators = 50, Depth = 8, Class_Weight = None\n",
      "Threshold = 0.49 | F1_score = 0.624, Accuracy = 0.8325, Estimators = 50, Depth = 8, Class_Weight = None\n"
     ]
    }
   ],
   "source": [
    "target_f1 = 0.59\n",
    "best_est = 0\n",
    "best_depth = 0\n",
    "best_threshold = 0\n",
    "best_f1 = 0\n",
    "best_class_weight = None\n",
    "\n",
    "for est in range(10, 100, 20):\n",
    "    for depth in range(4, 10, 2):\n",
    "        for class_weight in [None, 'balanced']:\n",
    "            model = RandomForestClassifier(n_estimators=est, max_depth=depth, random_state=12345, class_weight=class_weight)\n",
    "            model.fit(features_upsampled, target_upsampled)\n",
    "\n",
    "            predictions_valid = model.predict(features_valid)\n",
    "\n",
    "            for threshold in np.arange(0.35, 0.65, 0.02):\n",
    "                probs = model.predict_proba(features_valid)\n",
    "                predicted_valid = probs[:, 1] > threshold\n",
    "                f1 = f1_score(target_valid, predicted_valid)\n",
    "                accuracy = accuracy_score(target_valid, predicted_valid)\n",
    "\n",
    "                if (f1 > target_f1 and f1 > best_f1):\n",
    "                    best_est, best_depth, best_threshold, best_f1 = est, depth, threshold, f1\n",
    "\n",
    "                    print(\n",
    "                        'Threshold = {:.2f} | F1_score = {:.3f}, Accuracy = {:.4f}, Estimators = {:.0f}, Depth = {:.0f}, Class_Weight = {}'.format(\n",
    "                            threshold, f1, accuracy, est, depth, class_weight\n",
    "                        )\n",
    "                    )"
   ]
  },
  {
   "attachments": {},
   "cell_type": "markdown",
   "metadata": {},
   "source": [
    "We've fixed class imbalance by upsampling cases where clients left the bank. The best model did not require class weight balancing. We've also used threshold adjustment to find the best model that fits our requirements of F1_score >= 0.59."
   ]
  },
  {
   "attachments": {},
   "cell_type": "markdown",
   "metadata": {},
   "source": [
    "# 4. Model testing"
   ]
  },
  {
   "cell_type": "code",
   "execution_count": 62,
   "metadata": {},
   "outputs": [
    {
     "name": "stdout",
     "output_type": "stream",
     "text": [
      "Best model accuracy = 0.8380\n",
      "Best model f1_score = 0.6301\n",
      "ROC AUC score = 0.8531\n",
      "confusion matrix\n",
      "[[1400  182]\n",
      " [ 142  276]]\n"
     ]
    }
   ],
   "source": [
    "best_model = RandomForestClassifier(n_estimators=best_est, max_depth=best_depth, random_state=12345, class_weight=best_class_weight)\n",
    "best_model.fit(features_upsampled, target_upsampled)\n",
    "\n",
    "probs = best_model.predict_proba(features_test)\n",
    "predicted_test = probs[:, 1] > best_threshold\n",
    "\n",
    "print('Best model accuracy = {:.4f}'.format(accuracy_score(target_test, predicted_test)))\n",
    "print('Best model f1_score = {:.4f}'.format(f1_score(target_test, predicted_test)))\n",
    "print('ROC AUC score = {:.4f}'.format(roc_auc_score(target_test, probs[:, 1])))\n",
    "print('confusion matrix\\n', confusion_matrix(target_test, predicted_test), sep='')"
   ]
  },
  {
   "cell_type": "code",
   "execution_count": 66,
   "metadata": {},
   "outputs": [
    {
     "data": {
      "image/png": "[encoded data removed]",
      "text/plain": [
       "<Figure size 800x800 with 1 Axes>"
      ]
     },
     "metadata": {},
     "output_type": "display_data"
    }
   ],
   "source": [
    "tpr, fpr, threshold = roc_curve(target_test, probs[:, 1])\n",
    "\n",
    "plt.figure(figsize=(8, 8))\n",
    "plt.plot(tpr, fpr)\n",
    "plt.plot([0, 1], [0, 1], linestyle='--')\n",
    "plt.title('ROC curve')\n",
    "plt.xlabel('False Positive Rate')\n",
    "plt.ylabel('True Positive Rate')\n",
    "plt.show()\n"
   ]
  },
  {
   "attachments": {},
   "cell_type": "markdown",
   "metadata": {},
   "source": [
    "# Conclusion \n",
    "We've trained a pretty good model that surpasses the requirements. If we look at the confusion matrix we can see that our model is still only correctly predicts about 2/3 of true positive cases. We might predict that more customers will leave the bank than they actually will - may be it's not that bad as it will help us be more alert and care more about the customers.\n",
    "\n",
    "Let's compare base model values with the best model after upsampling and threshold adjustment:\n",
    "\n",
    "| Metric | Base model | Best model |\n",
    "| --- | --- | --- |\n",
    "| Accuracy | 0.842 | 0.838 |\n",
    "| F1 score | 0.5212 | 0.6301 |\n",
    "| ROC AUC score | 0.8493 | 0.8531 |\n",
    "| Confusion matrix | [[1512   65] [ 251  172]] | [[1400  182] [ 142  276]] |\n",
    "\n",
    "We can see that our best model really does perform better. Only accuracy suffered a little bit, while roc auc score and f1 score did grow very well. It's especially good since the best model was tested on a test dataset, which was not part of training at all."
   ]
  }
 ],
 "metadata": {
  "kernelspec": {
   "display_name": "ml_intro",
   "language": "python",
   "name": "python3"
  },
  "language_info": {
   "codemirror_mode": {
    "name": "ipython",
    "version": 3
   },
   "file_extension": ".py",
   "mimetype": "text/x-python",
   "name": "python",
   "nbconvert_exporter": "python",
   "pygments_lexer": "ipython3",
   "version": "3.11.0"
  },
  "orig_nbformat": 4
 },
 "nbformat": 4,
 "nbformat_minor": 2
}
